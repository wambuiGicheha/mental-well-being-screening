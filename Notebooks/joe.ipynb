{
 "cells": [
  {
   "cell_type": "markdown",
   "metadata": {},
   "source": [
    "# Machine Learning for Social Media-Based Depression Analysis"
   ]
  },
  {
   "cell_type": "markdown",
   "metadata": {},
   "source": [
    "## Business Understanding"
   ]
  },
  {
   "cell_type": "markdown",
   "metadata": {},
   "source": [
    "Mental health is an urgent issue globally, with depression affecting millions of individuals across all demographics. The internet, and particularly social media, has become a place where people often express their struggles, including depression. Early detection of depression symptons can be crucial in providing timely support or intervention. This project’s goal is to leverage data science to better understand and detect depressive expressions in online platforms, potentially paving the way for more proactive mental health support. Given the widespread use of platforms like Reddit, this research could benefit individuals by increasing awareness and intervention opportunities"
   ]
  },
  {
   "cell_type": "markdown",
   "metadata": {},
   "source": [
    "\n",
    "## Data Understanding\n",
    "\n",
    "Datasource: https://www.kaggle.com/datasets/rishabhkausish/reddit-depression-dataset/data\n",
    "\n",
    "The dataset already includes several key features that can be used to analyze and predict depression indicators based on Reddit posts. Specifically, the data has 7 key columns:\n",
    "\n",
    "subreddit : The subreddit where each post was made, with posts from \"Depression\" and \"SuicideWatch\" labeled as 1 for depression and posts from other subreddits labeled as 0 (non-depression).\n",
    "\n",
    "title: The title of the Reddit post.\n",
    "\n",
    "body: The full text of the Reddit post, which may contain valuable information for understanding the context, tone, and possible indicators of depression.\n",
    "\n",
    "upvotes: Number of upvotes each post received, which may indicate the post's visibility or resonance with the community.\n",
    "\n",
    "created_utc: The timestamp of when the post was created in UTC, which can help in analyzing temporal trends.\n",
    "\n",
    "num_comments: The number of comments on each post, which could provide insights into community engagement.\n",
    "\n",
    "label: The target variable indicating depression (1) or non-depression (0) based on subreddit. .... The raw data was collected from five Reddit subreddits (sub topics), categorized based on their content. These included: Teenagers, Depression, SuicideWatch, DeepThoughts, Happy\n",
    "\n",
    "Since the data is already collected from Reddit, with over 6 million rows, further data acquisition may not be necessary. Infact, the team proposes reducing the dataset to about 500,000 rows for the purpose of this project(and to save our laptops). However, if additional data is needed, we could plan to scrape Reddit for more recent posts using a tool that we could identify through further research, provided we comply with Reddit's data collection policies and privacy standards.\n"
   ]
  },
  {
   "cell_type": "markdown",
   "metadata": {},
   "source": []
  },
  {
   "cell_type": "code",
   "execution_count": 2,
   "metadata": {},
   "outputs": [],
   "source": [
    "#import libraries needed\n",
    "import pandas as pd\n",
    "import numpy as np\n",
    "import os\n",
    "import matplotlib.pyplot as plt\n",
    "import seaborn as sns\n",
    "from sklearn.decomposition import PCA\n",
    "\n",
    "\n",
    "from sklearn.preprocessing import StandardScaler, MinMaxScaler, LabelEncoder\n",
    "from sklearn.feature_extraction.text import TfidfVectorizer\n",
    "from sklearn.linear_model import LogisticRegression\n",
    "from sklearn.naive_bayes import MultinomialNB\n",
    "from sklearn.metrics import classification_report, confusion_matrix\n",
    "from sklearn.model_selection import GridSearchCV\n",
    "\n",
    "from nltk.tokenize import word_tokenize\n",
    "from nltk.corpus import stopwords\n",
    "from sklearn.utils.class_weight import compute_class_weight\n",
    "from imblearn.over_sampling import SMOTE\n",
    "from sklearn.ensemble import RandomForestClassifier\n",
    "import nltk\n",
    "from nltk.corpus import stopwords\n",
    "from nltk.tokenize import word_tokenize\n",
    "from nltk.stem import WordNetLemmatizer\n",
    "from sklearn.base import TransformerMixin, BaseEstimator\n",
    "import string\n",
    "\n",
    "from scipy.sparse import csr_matrix"
   ]
  },
  {
   "cell_type": "code",
   "execution_count": 3,
   "metadata": {},
   "outputs": [
    {
     "data": {
      "text/html": [
       "<div>\n",
       "<style scoped>\n",
       "    .dataframe tbody tr th:only-of-type {\n",
       "        vertical-align: middle;\n",
       "    }\n",
       "\n",
       "    .dataframe tbody tr th {\n",
       "        vertical-align: top;\n",
       "    }\n",
       "\n",
       "    .dataframe thead th {\n",
       "        text-align: right;\n",
       "    }\n",
       "</style>\n",
       "<table border=\"1\" class=\"dataframe\">\n",
       "  <thead>\n",
       "    <tr style=\"text-align: right;\">\n",
       "      <th></th>\n",
       "      <th>subreddit</th>\n",
       "      <th>title</th>\n",
       "      <th>body</th>\n",
       "      <th>upvotes</th>\n",
       "      <th>created_utc</th>\n",
       "      <th>num_comments</th>\n",
       "      <th>label</th>\n",
       "    </tr>\n",
       "  </thead>\n",
       "  <tbody>\n",
       "    <tr>\n",
       "      <th>0</th>\n",
       "      <td>teenagers</td>\n",
       "      <td>Day 18 of doing 50 push-ups</td>\n",
       "      <td>NaN</td>\n",
       "      <td>4.0</td>\n",
       "      <td>1.619357e+09</td>\n",
       "      <td>4.0</td>\n",
       "      <td>0.0</td>\n",
       "    </tr>\n",
       "    <tr>\n",
       "      <th>1</th>\n",
       "      <td>teenagers</td>\n",
       "      <td>There isn’t a better feeling than finishing yo...</td>\n",
       "      <td>Then your teacher hits you with that “ Good jo...</td>\n",
       "      <td>7.0</td>\n",
       "      <td>1.554103e+09</td>\n",
       "      <td>NaN</td>\n",
       "      <td>0.0</td>\n",
       "    </tr>\n",
       "    <tr>\n",
       "      <th>2</th>\n",
       "      <td>teenagers</td>\n",
       "      <td>LMAOOO I can only get this guy to talk to me i...</td>\n",
       "      <td>Yeahhh maybe not babe</td>\n",
       "      <td>4.0</td>\n",
       "      <td>1.649342e+09</td>\n",
       "      <td>12.0</td>\n",
       "      <td>0.0</td>\n",
       "    </tr>\n",
       "    <tr>\n",
       "      <th>3</th>\n",
       "      <td>teenagers</td>\n",
       "      <td>This isn't going to work out</td>\n",
       "      <td>NaN</td>\n",
       "      <td>236.0</td>\n",
       "      <td>1.417630e+09</td>\n",
       "      <td>33.0</td>\n",
       "      <td>0.0</td>\n",
       "    </tr>\n",
       "    <tr>\n",
       "      <th>4</th>\n",
       "      <td>teenagers</td>\n",
       "      <td>Am I the only guy who found it hurtful as a ch...</td>\n",
       "      <td>\\n\\nLike... why? How is that funny? How does ...</td>\n",
       "      <td>6.0</td>\n",
       "      <td>1.569280e+09</td>\n",
       "      <td>4.0</td>\n",
       "      <td>0.0</td>\n",
       "    </tr>\n",
       "    <tr>\n",
       "      <th>5</th>\n",
       "      <td>teenagers</td>\n",
       "      <td>Phew , close one</td>\n",
       "      <td>NaN</td>\n",
       "      <td>11.0</td>\n",
       "      <td>1.587389e+09</td>\n",
       "      <td>NaN</td>\n",
       "      <td>0.0</td>\n",
       "    </tr>\n",
       "    <tr>\n",
       "      <th>6</th>\n",
       "      <td>teenagers</td>\n",
       "      <td>Listen to my favorite song part 2 🤩🤩🤩</td>\n",
       "      <td>https://youtu.be/MtN1YnoL46Q</td>\n",
       "      <td>9.0</td>\n",
       "      <td>1.610744e+09</td>\n",
       "      <td>11.0</td>\n",
       "      <td>0.0</td>\n",
       "    </tr>\n",
       "    <tr>\n",
       "      <th>7</th>\n",
       "      <td>teenagers</td>\n",
       "      <td>Hard core cuddling</td>\n",
       "      <td>#moans</td>\n",
       "      <td>41.0</td>\n",
       "      <td>1.625997e+09</td>\n",
       "      <td>19.0</td>\n",
       "      <td>0.0</td>\n",
       "    </tr>\n",
       "    <tr>\n",
       "      <th>8</th>\n",
       "      <td>teenagers</td>\n",
       "      <td>Don't communicate with women.</td>\n",
       "      <td>I watched my friend go to high five a girl and...</td>\n",
       "      <td>7.0</td>\n",
       "      <td>1.557873e+09</td>\n",
       "      <td>11.0</td>\n",
       "      <td>0.0</td>\n",
       "    </tr>\n",
       "    <tr>\n",
       "      <th>9</th>\n",
       "      <td>teenagers</td>\n",
       "      <td>Do you guys just ever want to be left alone?</td>\n",
       "      <td>Just, after a bunch of socialising I want to c...</td>\n",
       "      <td>5.0</td>\n",
       "      <td>1.511478e+09</td>\n",
       "      <td>10.0</td>\n",
       "      <td>0.0</td>\n",
       "    </tr>\n",
       "  </tbody>\n",
       "</table>\n",
       "</div>"
      ],
      "text/plain": [
       "   subreddit                                              title  \\\n",
       "0  teenagers                        Day 18 of doing 50 push-ups   \n",
       "1  teenagers  There isn’t a better feeling than finishing yo...   \n",
       "2  teenagers  LMAOOO I can only get this guy to talk to me i...   \n",
       "3  teenagers                       This isn't going to work out   \n",
       "4  teenagers  Am I the only guy who found it hurtful as a ch...   \n",
       "5  teenagers                                   Phew , close one   \n",
       "6  teenagers              Listen to my favorite song part 2 🤩🤩🤩   \n",
       "7  teenagers                                 Hard core cuddling   \n",
       "8  teenagers                      Don't communicate with women.   \n",
       "9  teenagers       Do you guys just ever want to be left alone?   \n",
       "\n",
       "                                                body  upvotes   created_utc  \\\n",
       "0                                                NaN      4.0  1.619357e+09   \n",
       "1  Then your teacher hits you with that “ Good jo...      7.0  1.554103e+09   \n",
       "2                              Yeahhh maybe not babe      4.0  1.649342e+09   \n",
       "3                                                NaN    236.0  1.417630e+09   \n",
       "4   \\n\\nLike... why? How is that funny? How does ...      6.0  1.569280e+09   \n",
       "5                                                NaN     11.0  1.587389e+09   \n",
       "6                       https://youtu.be/MtN1YnoL46Q      9.0  1.610744e+09   \n",
       "7                                             #moans     41.0  1.625997e+09   \n",
       "8  I watched my friend go to high five a girl and...      7.0  1.557873e+09   \n",
       "9  Just, after a bunch of socialising I want to c...      5.0  1.511478e+09   \n",
       "\n",
       "   num_comments  label  \n",
       "0           4.0    0.0  \n",
       "1           NaN    0.0  \n",
       "2          12.0    0.0  \n",
       "3          33.0    0.0  \n",
       "4           4.0    0.0  \n",
       "5           NaN    0.0  \n",
       "6          11.0    0.0  \n",
       "7          19.0    0.0  \n",
       "8          11.0    0.0  \n",
       "9          10.0    0.0  "
      ]
     },
     "execution_count": 3,
     "metadata": {},
     "output_type": "execute_result"
    }
   ],
   "source": [
    "#Load the dataset to use \n",
    "#data = pd.read_csv(file_path)  # \n",
    "data = pd.read_csv(r\"C:\\Users\\admin\\Documents\\Flatiron\\Phase-5\\final_project\\Data\\reduced_reddit.csv\", index_col=False)\n",
    "data.head(10)  # Display the first few rows of the dataframe\n"
   ]
  },
  {
   "cell_type": "code",
   "execution_count": 4,
   "metadata": {},
   "outputs": [
    {
     "name": "stdout",
     "output_type": "stream",
     "text": [
      "<class 'pandas.core.frame.DataFrame'>\n",
      "RangeIndex: 98826 entries, 0 to 98825\n",
      "Data columns (total 7 columns):\n",
      " #   Column        Non-Null Count  Dtype  \n",
      "---  ------        --------------  -----  \n",
      " 0   subreddit     98826 non-null  object \n",
      " 1   title         98826 non-null  object \n",
      " 2   body          80371 non-null  object \n",
      " 3   upvotes       98826 non-null  float64\n",
      " 4   created_utc   98826 non-null  float64\n",
      " 5   num_comments  94297 non-null  float64\n",
      " 6   label         98826 non-null  float64\n",
      "dtypes: float64(4), object(3)\n",
      "memory usage: 5.3+ MB\n"
     ]
    }
   ],
   "source": [
    "#check the dataset information \n",
    "data.info();"
   ]
  },
  {
   "cell_type": "code",
   "execution_count": 5,
   "metadata": {},
   "outputs": [
    {
     "data": {
      "text/html": [
       "<div>\n",
       "<style scoped>\n",
       "    .dataframe tbody tr th:only-of-type {\n",
       "        vertical-align: middle;\n",
       "    }\n",
       "\n",
       "    .dataframe tbody tr th {\n",
       "        vertical-align: top;\n",
       "    }\n",
       "\n",
       "    .dataframe thead th {\n",
       "        text-align: right;\n",
       "    }\n",
       "</style>\n",
       "<table border=\"1\" class=\"dataframe\">\n",
       "  <thead>\n",
       "    <tr style=\"text-align: right;\">\n",
       "      <th></th>\n",
       "      <th>upvotes</th>\n",
       "      <th>created_utc</th>\n",
       "      <th>num_comments</th>\n",
       "      <th>label</th>\n",
       "    </tr>\n",
       "  </thead>\n",
       "  <tbody>\n",
       "    <tr>\n",
       "      <th>count</th>\n",
       "      <td>98826.000000</td>\n",
       "      <td>9.882600e+04</td>\n",
       "      <td>94297.000000</td>\n",
       "      <td>98826.000000</td>\n",
       "    </tr>\n",
       "    <tr>\n",
       "      <th>mean</th>\n",
       "      <td>62.315555</td>\n",
       "      <td>1.566569e+09</td>\n",
       "      <td>15.217069</td>\n",
       "      <td>0.194443</td>\n",
       "    </tr>\n",
       "    <tr>\n",
       "      <th>std</th>\n",
       "      <td>937.347581</td>\n",
       "      <td>6.977745e+07</td>\n",
       "      <td>71.638197</td>\n",
       "      <td>0.395773</td>\n",
       "    </tr>\n",
       "    <tr>\n",
       "      <th>min</th>\n",
       "      <td>4.000000</td>\n",
       "      <td>1.202084e+09</td>\n",
       "      <td>1.000000</td>\n",
       "      <td>0.000000</td>\n",
       "    </tr>\n",
       "    <tr>\n",
       "      <th>25%</th>\n",
       "      <td>5.000000</td>\n",
       "      <td>1.552254e+09</td>\n",
       "      <td>4.000000</td>\n",
       "      <td>0.000000</td>\n",
       "    </tr>\n",
       "    <tr>\n",
       "      <th>50%</th>\n",
       "      <td>7.000000</td>\n",
       "      <td>1.578218e+09</td>\n",
       "      <td>7.000000</td>\n",
       "      <td>0.000000</td>\n",
       "    </tr>\n",
       "    <tr>\n",
       "      <th>75%</th>\n",
       "      <td>11.000000</td>\n",
       "      <td>1.611584e+09</td>\n",
       "      <td>14.000000</td>\n",
       "      <td>0.000000</td>\n",
       "    </tr>\n",
       "    <tr>\n",
       "      <th>max</th>\n",
       "      <td>62899.000000</td>\n",
       "      <td>1.672531e+09</td>\n",
       "      <td>7880.000000</td>\n",
       "      <td>1.000000</td>\n",
       "    </tr>\n",
       "  </tbody>\n",
       "</table>\n",
       "</div>"
      ],
      "text/plain": [
       "            upvotes   created_utc  num_comments         label\n",
       "count  98826.000000  9.882600e+04  94297.000000  98826.000000\n",
       "mean      62.315555  1.566569e+09     15.217069      0.194443\n",
       "std      937.347581  6.977745e+07     71.638197      0.395773\n",
       "min        4.000000  1.202084e+09      1.000000      0.000000\n",
       "25%        5.000000  1.552254e+09      4.000000      0.000000\n",
       "50%        7.000000  1.578218e+09      7.000000      0.000000\n",
       "75%       11.000000  1.611584e+09     14.000000      0.000000\n",
       "max    62899.000000  1.672531e+09   7880.000000      1.000000"
      ]
     },
     "execution_count": 5,
     "metadata": {},
     "output_type": "execute_result"
    }
   ],
   "source": [
    "#check on the description of numerical datatypes\n",
    "data.describe()"
   ]
  },
  {
   "cell_type": "markdown",
   "metadata": {},
   "source": [
    "## Data Cleaning\n",
    "### Handling missing values in body"
   ]
  },
  {
   "cell_type": "code",
   "execution_count": 6,
   "metadata": {},
   "outputs": [
    {
     "data": {
      "text/plain": [
       "subreddit        0.000000\n",
       "title            0.000000\n",
       "body            18.674236\n",
       "upvotes          0.000000\n",
       "created_utc      0.000000\n",
       "num_comments     4.582802\n",
       "label            0.000000\n",
       "dtype: float64"
      ]
     },
     "execution_count": 6,
     "metadata": {},
     "output_type": "execute_result"
    }
   ],
   "source": [
    "#check to see if there are null values in percentage form\n",
    "data.isnull().sum() / len(data) * 100"
   ]
  },
  {
   "cell_type": "markdown",
   "metadata": {},
   "source": [
    "The dataset has some columns that have null values, namely body and num_comments. The latter has 18% of the rows with missing values while the former has averagely 5% of missing values which we can drop these missing rows as it makes a small percentage of the data. \n",
    "For the body column, I will impute the missing values by filling with the text \"no content\".  "
   ]
  },
  {
   "cell_type": "code",
   "execution_count": 7,
   "metadata": {},
   "outputs": [
    {
     "data": {
      "text/plain": [
       "subreddit       0.0\n",
       "title           0.0\n",
       "body            0.0\n",
       "upvotes         0.0\n",
       "created_utc     0.0\n",
       "num_comments    0.0\n",
       "label           0.0\n",
       "dtype: float64"
      ]
     },
     "execution_count": 7,
     "metadata": {},
     "output_type": "execute_result"
    }
   ],
   "source": [
    "# Dropping all the nan values\n",
    "data = data.dropna(subset=[\"body\", 'num_comments']).reset_index(drop=True)\n",
    "\n",
    "#check to see if there are null values remaining\n",
    "data.isnull().sum() / len(data) * 100"
   ]
  },
  {
   "cell_type": "code",
   "execution_count": 8,
   "metadata": {},
   "outputs": [
    {
     "name": "stdout",
     "output_type": "stream",
     "text": [
      "<class 'pandas.core.frame.DataFrame'>\n",
      "RangeIndex: 77051 entries, 0 to 77050\n",
      "Data columns (total 7 columns):\n",
      " #   Column        Non-Null Count  Dtype  \n",
      "---  ------        --------------  -----  \n",
      " 0   subreddit     77051 non-null  object \n",
      " 1   title         77051 non-null  object \n",
      " 2   body          77051 non-null  object \n",
      " 3   upvotes       77051 non-null  float64\n",
      " 4   created_utc   77051 non-null  float64\n",
      " 5   num_comments  77051 non-null  float64\n",
      " 6   label         77051 non-null  float64\n",
      "dtypes: float64(4), object(3)\n",
      "memory usage: 4.1+ MB\n"
     ]
    },
    {
     "data": {
      "text/plain": [
       "(None, (77051, 7))"
      ]
     },
     "execution_count": 8,
     "metadata": {},
     "output_type": "execute_result"
    }
   ],
   "source": [
    "# Checking for null values and confirming data shape after cleaning to ensure nomissing values\n",
    "data.info(), data.shape"
   ]
  },
  {
   "cell_type": "code",
   "execution_count": 9,
   "metadata": {},
   "outputs": [
    {
     "name": "stdout",
     "output_type": "stream",
     "text": [
      "<class 'pandas.core.frame.DataFrame'>\n",
      "RangeIndex: 77051 entries, 0 to 77050\n",
      "Data columns (total 7 columns):\n",
      " #   Column        Non-Null Count  Dtype         \n",
      "---  ------        --------------  -----         \n",
      " 0   subreddit     77051 non-null  object        \n",
      " 1   title         77051 non-null  object        \n",
      " 2   body          77051 non-null  object        \n",
      " 3   upvotes       77051 non-null  float64       \n",
      " 4   created_utc   77051 non-null  datetime64[ns]\n",
      " 5   num_comments  77051 non-null  float64       \n",
      " 6   label         77051 non-null  float64       \n",
      "dtypes: datetime64[ns](1), float64(3), object(3)\n",
      "memory usage: 4.1+ MB\n"
     ]
    },
    {
     "data": {
      "text/plain": [
       "(None, (77051, 7))"
      ]
     },
     "execution_count": 9,
     "metadata": {},
     "output_type": "execute_result"
    }
   ],
   "source": [
    "# Convert 'created_utc' column from UTC epoch time to datetime\n",
    "data['created_utc'] = pd.to_datetime(data['created_utc'], unit='s')\n",
    "\n",
    "# To see the updated DataFrame\n",
    "data.info(), data.shape"
   ]
  },
  {
   "cell_type": "markdown",
   "metadata": {},
   "source": [
    "## Exploratory Data Analysis"
   ]
  },
  {
   "cell_type": "code",
   "execution_count": 10,
   "metadata": {},
   "outputs": [
    {
     "data": {
      "image/png": "[encoded data removed]",
      "text/plain": [
       "<Figure size 1152x360 with 3 Axes>"
      ]
     },
     "metadata": {
      "needs_background": "light"
     },
     "output_type": "display_data"
    }
   ],
   "source": [
    "#Visualize the frequency distribution of values using histograms and to identify outliers using the box plots- for upvotes and num_comments\n",
    "\n",
    "sns.set_theme(style=\"whitegrid\")\n",
    "numeric_columns = ['upvotes', 'num_comments', 'label']\n",
    "\n",
    "# Set up the subplot grid\n",
    "fig, axes = plt.subplots(1, len(numeric_columns), figsize=(16, 5))\n",
    "\n",
    "for i, col in enumerate(numeric_columns):\n",
    "    sns.histplot(data[col], bins=5, kde=True, ax=axes[i], color='skyblue')\n",
    "    axes[i].set_title(f'Histogram of {col}')\n",
    "    axes[i].set_xlabel(col.capitalize())\n",
    "    axes[i].set_ylabel(\"Frequency\")\n",
    "\n",
    "plt.tight_layout()\n",
    "plt.show()"
   ]
  },
  {
   "cell_type": "code",
   "execution_count": 11,
   "metadata": {},
   "outputs": [
    {
     "name": "stdout",
     "output_type": "stream",
     "text": [
      "teenagers       59164\n",
      "depression      10398\n",
      "SuicideWatch     6681\n",
      "happy             540\n",
      "DeepThoughts      268\n",
      "Name: subreddit, dtype: int64\n",
      "0.0    59972\n",
      "1.0    17079\n",
      "Name: label, dtype: int64\n"
     ]
    },
    {
     "data": {
      "image/png": "[encoded data removed]",
      "text/plain": [
       "<Figure size 864x432 with 1 Axes>"
      ]
     },
     "metadata": {},
     "output_type": "display_data"
    },
    {
     "data": {
      "image/png": "[encoded data removed]",
      "text/plain": [
       "<Figure size 576x432 with 1 Axes>"
      ]
     },
     "metadata": {},
     "output_type": "display_data"
    }
   ],
   "source": [
    "#Frequency of categorical columns\n",
    "\n",
    "# Frequency of 'subreddit' column\n",
    "print(data['subreddit'].value_counts())\n",
    "\n",
    "# Frequency of 'label' column\n",
    "print(data['label'].value_counts())\n",
    "\n",
    "# Set style\n",
    "sns.set_theme(style=\"whitegrid\")\n",
    "\n",
    "# Plot the counts for 'subreddit' column\n",
    "plt.figure(figsize=(12, 6))\n",
    "sns.countplot(data=data, y='subreddit', order=data['subreddit'].value_counts().index, palette='viridis')\n",
    "plt.title('Counts of Posts by Subreddit')\n",
    "plt.xlabel('Count')\n",
    "plt.ylabel('Subreddit')\n",
    "plt.show()\n",
    "\n",
    "# Plot the counts for 'label' column\n",
    "plt.figure(figsize=(8, 6))\n",
    "sns.countplot(data=data, x='label', palette='coolwarm')\n",
    "plt.title('Counts by Label')\n",
    "plt.xlabel('Label')\n",
    "plt.ylabel('Count')\n",
    "plt.xticks(ticks=[0, 1], labels=['Non-suicidal', 'Suicidal'])\n",
    "plt.show()\n"
   ]
  },
  {
   "cell_type": "markdown",
   "metadata": {},
   "source": [
    "## Bivariate Analysis"
   ]
  },
  {
   "cell_type": "code",
   "execution_count": 12,
   "metadata": {},
   "outputs": [
    {
     "data": {
      "image/png": "[encoded data removed]",
      "text/plain": [
       "<Figure size 576x432 with 1 Axes>"
      ]
     },
     "metadata": {},
     "output_type": "display_data"
    }
   ],
   "source": [
    "#Numerical vs. Numerical (Scatter plot and correlation matrix)\n",
    "#Scatter Plot - Shows the relationship between two numerical variables, upvotes and num_comments.\n",
    "\n",
    "# Scatter plot for numerical variables\n",
    "plt.figure(figsize=(8, 6))\n",
    "sns.scatterplot(x='upvotes', y='num_comments', data=data, alpha=0.5)\n",
    "plt.title(\"Scatter Plot of Upvotes vs. Number of Comments\")\n",
    "plt.xlabel(\"Upvotes\")\n",
    "plt.ylabel(\"Number of Comments\")\n",
    "plt.show()\n",
    "\n"
   ]
  },
  {
   "cell_type": "code",
   "execution_count": 13,
   "metadata": {},
   "outputs": [
    {
     "data": {
      "image/png": "[encoded data removed]",
      "text/plain": [
       "<Figure size 576x432 with 1 Axes>"
      ]
     },
     "metadata": {},
     "output_type": "display_data"
    },
    {
     "data": {
      "image/png": "[encoded data removed]",
      "text/plain": [
       "<Figure size 720x432 with 1 Axes>"
      ]
     },
     "metadata": {},
     "output_type": "display_data"
    }
   ],
   "source": [
    "# Numerical vs. Categorical (Box plot and Violin plot)\n",
    "# Box plot of 'upvotes' by 'label'\n",
    "plt.figure(figsize=(8, 6))\n",
    "sns.boxplot(x='label', y='upvotes', data=data, palette='pastel')\n",
    "plt.title(\"Box Plot of Upvotes by Label\")\n",
    "plt.xlabel(\"Label\")\n",
    "plt.ylabel(\"Upvotes\")\n",
    "plt.xticks(ticks=[0, 1], labels=[\"Non-Suicidal (0)\", \"Suicidal (1)\"])\n",
    "plt.show()\n",
    "\n",
    "# Violin plot of 'num_comments' by 'subreddit'\n",
    "plt.figure(figsize=(10, 6))\n",
    "sns.violinplot(x='subreddit', y='num_comments', data=data, palette='muted')\n",
    "plt.title(\"Violin Plot of Number of Comments by Subreddit\")\n",
    "plt.xlabel(\"Subreddit\")\n",
    "plt.ylabel(\"Number of Comments\")\n",
    "plt.show()"
   ]
  },
  {
   "cell_type": "code",
   "execution_count": 14,
   "metadata": {},
   "outputs": [
    {
     "name": "stdout",
     "output_type": "stream",
     "text": [
      "Crosstab of Subreddit by Label:\n",
      "label           0.0    1.0\n",
      "subreddit                 \n",
      "DeepThoughts    268      0\n",
      "SuicideWatch      0   6681\n",
      "depression        0  10398\n",
      "happy           540      0\n",
      "teenagers     59164      0\n"
     ]
    },
    {
     "data": {
      "image/png": "[encoded data removed]",
      "text/plain": [
       "<Figure size 720x432 with 1 Axes>"
      ]
     },
     "metadata": {},
     "output_type": "display_data"
    }
   ],
   "source": [
    "# Crosstab between 'subreddit' and 'label'\n",
    "cross_tab = pd.crosstab(data['subreddit'], data['label'])\n",
    "print(\"Crosstab of Subreddit by Label:\")\n",
    "print(cross_tab)\n",
    "\n",
    "# Bar plot for 'subreddit' and 'label'\n",
    "plt.figure(figsize=(10, 6))\n",
    "sns.countplot(data=data, x=\"subreddit\", hue=\"label\", palette=\"Set2\")\n",
    "plt.title(\"Subreddit Distribution by Label\")\n",
    "plt.xlabel(\"Subreddit\")\n",
    "plt.ylabel(\"Count\")\n",
    "plt.legend(title=\"Label\", loc='upper right', labels=[\"Non-Suicidal (0)\", \"Suicidal (1)\"])\n",
    "plt.show()"
   ]
  },
  {
   "cell_type": "markdown",
   "metadata": {},
   "source": [
    "## Multivariate Analysis"
   ]
  },
  {
   "cell_type": "code",
   "execution_count": 15,
   "metadata": {},
   "outputs": [
    {
     "data": {
      "image/png": "[encoded data removed]",
      "text/plain": [
       "<Figure size 576x432 with 2 Axes>"
      ]
     },
     "metadata": {},
     "output_type": "display_data"
    }
   ],
   "source": [
    "# Convert the 'subreddit' column to numeric using label encoding\n",
    "data['subreddit_encoded'] = LabelEncoder().fit_transform(data['subreddit'])\n",
    "\n",
    "# Now include the encoded 'subreddit' in the heatmap\n",
    "plt.figure(figsize=(8,6))\n",
    "sns.heatmap(data[['subreddit_encoded', 'upvotes', 'num_comments', 'label']].corr(), annot=True, cmap='coolwarm')\n",
    "plt.title('Correlation Heatmap with Encoded Subreddit')\n",
    "plt.show()"
   ]
  },
  {
   "cell_type": "markdown",
   "metadata": {},
   "source": [
    "# Sentiment Analysis"
   ]
  },
  {
   "cell_type": "code",
   "execution_count": 16,
   "metadata": {},
   "outputs": [
    {
     "data": {
      "text/html": [
       "<div>\n",
       "<style scoped>\n",
       "    .dataframe tbody tr th:only-of-type {\n",
       "        vertical-align: middle;\n",
       "    }\n",
       "\n",
       "    .dataframe tbody tr th {\n",
       "        vertical-align: top;\n",
       "    }\n",
       "\n",
       "    .dataframe thead th {\n",
       "        text-align: right;\n",
       "    }\n",
       "</style>\n",
       "<table border=\"1\" class=\"dataframe\">\n",
       "  <thead>\n",
       "    <tr style=\"text-align: right;\">\n",
       "      <th></th>\n",
       "      <th>processed_title</th>\n",
       "      <th>processed_body</th>\n",
       "    </tr>\n",
       "  </thead>\n",
       "  <tbody>\n",
       "    <tr>\n",
       "      <th>0</th>\n",
       "      <td>lmaooo get guy talk talk god💖💖</td>\n",
       "      <td>yeahhh maybe babe</td>\n",
       "    </tr>\n",
       "    <tr>\n",
       "      <th>1</th>\n",
       "      <td>guy found hurtful child movie kid female chara...</td>\n",
       "      <td>like funny deserve better male character kick ...</td>\n",
       "    </tr>\n",
       "    <tr>\n",
       "      <th>2</th>\n",
       "      <td>listen favorite song part 2 🤩🤩🤩</td>\n",
       "      <td>httpsyoutubemtn1ynol46q</td>\n",
       "    </tr>\n",
       "    <tr>\n",
       "      <th>3</th>\n",
       "      <td>hard core cuddling</td>\n",
       "      <td>moan</td>\n",
       "    </tr>\n",
       "    <tr>\n",
       "      <th>4</th>\n",
       "      <td>dont communicate woman</td>\n",
       "      <td>watched friend go high five girl looked kinda ...</td>\n",
       "    </tr>\n",
       "    <tr>\n",
       "      <th>...</th>\n",
       "      <td>...</td>\n",
       "      <td>...</td>\n",
       "    </tr>\n",
       "    <tr>\n",
       "      <th>77046</th>\n",
       "      <td>anyone ever problem gang</td>\n",
       "      <td>dont care grammer isnt good dont even bring se...</td>\n",
       "    </tr>\n",
       "    <tr>\n",
       "      <th>77047</th>\n",
       "      <td>moment away killing even bothering make throw ...</td>\n",
       "      <td>dont want talk problem dont want talk problem ...</td>\n",
       "    </tr>\n",
       "    <tr>\n",
       "      <th>77048</th>\n",
       "      <td>ive grown used like year</td>\n",
       "      <td>im suicidal moment fact feel great right time ...</td>\n",
       "    </tr>\n",
       "    <tr>\n",
       "      <th>77049</th>\n",
       "      <td>speech lord ring really inspires go</td>\n",
       "      <td>like great story mr frodo one really mattered ...</td>\n",
       "    </tr>\n",
       "    <tr>\n",
       "      <th>77050</th>\n",
       "      <td>dont know</td>\n",
       "      <td>never thought end state mind post offmychest h...</td>\n",
       "    </tr>\n",
       "  </tbody>\n",
       "</table>\n",
       "<p>77051 rows × 2 columns</p>\n",
       "</div>"
      ],
      "text/plain": [
       "                                         processed_title  \\\n",
       "0                         lmaooo get guy talk talk god💖💖   \n",
       "1      guy found hurtful child movie kid female chara...   \n",
       "2                        listen favorite song part 2 🤩🤩🤩   \n",
       "3                                     hard core cuddling   \n",
       "4                                 dont communicate woman   \n",
       "...                                                  ...   \n",
       "77046                           anyone ever problem gang   \n",
       "77047  moment away killing even bothering make throw ...   \n",
       "77048                           ive grown used like year   \n",
       "77049                speech lord ring really inspires go   \n",
       "77050                                          dont know   \n",
       "\n",
       "                                          processed_body  \n",
       "0                                      yeahhh maybe babe  \n",
       "1      like funny deserve better male character kick ...  \n",
       "2                                httpsyoutubemtn1ynol46q  \n",
       "3                                                   moan  \n",
       "4      watched friend go high five girl looked kinda ...  \n",
       "...                                                  ...  \n",
       "77046  dont care grammer isnt good dont even bring se...  \n",
       "77047  dont want talk problem dont want talk problem ...  \n",
       "77048  im suicidal moment fact feel great right time ...  \n",
       "77049  like great story mr frodo one really mattered ...  \n",
       "77050  never thought end state mind post offmychest h...  \n",
       "\n",
       "[77051 rows x 2 columns]"
      ]
     },
     "execution_count": 16,
     "metadata": {},
     "output_type": "execute_result"
    }
   ],
   "source": [
    "# Initializing stopwords, punctuation, and lemmatizer\n",
    "stop_words = set(stopwords.words('english'))\n",
    "lemmatizer = WordNetLemmatizer()\n",
    "\n",
    "#define a class TextPreprocessor that conforms to scikit-learn’s transformer API\n",
    "class TextPreprocessor(BaseEstimator, TransformerMixin):\n",
    "    def __init__(self):\n",
    "        pass\n",
    "\n",
    "    def fit(self, X, y=None):\n",
    "        return self  # No fitting required for this transformer\n",
    "\n",
    "    def transform(self, X, y=None):\n",
    "        return X.apply(self._preprocess_text)\n",
    "    def _preprocess_text(self, text):\n",
    "        if pd.isnull(text):\n",
    "            return ''  # Return empty string for missing values\n",
    "        text = text.lower()  # Lowercase\n",
    "        text = ''.join([char for char in text if char not in string.punctuation])  # Remove punctuation\n",
    "        tokens = word_tokenize(text)  # Tokenize\n",
    "        tokens = [word for word in tokens if word not in stop_words]  # Remove stopwords\n",
    "        tokens = [lemmatizer.lemmatize(word) for word in tokens]  # Lemmatize\n",
    "        return ' '.join(tokens)  # Join tokens back into string\n",
    "\n",
    "\n",
    "# Instantiate TextPreprocessor\n",
    "text_preprocessor = TextPreprocessor()\n",
    "\n",
    "# Apply the text preprocessor to 'title' and 'body' columns\n",
    "data['processed_title'] = text_preprocessor.transform(data['title'])\n",
    "data['processed_body'] = text_preprocessor.transform(data['body'])\n",
    "\n",
    "# Display the processed data\n",
    "data[['processed_title', 'processed_body']]"
   ]
  },
  {
   "cell_type": "code",
   "execution_count": 17,
   "metadata": {},
   "outputs": [],
   "source": [
    "# TF-IDF give higher weights to words that are less common across documents.\n",
    "\n",
    "# Apply TF-IDF to the title and body columns separately\n",
    "tfidf_vectorizer = TfidfVectorizer(max_features=10000)  # limiting to top 10,000 features_to manage vocabulary size\n",
    "\n",
    "\n",
    "# Using the processed title and body columns \n",
    "tfidf_title = tfidf_vectorizer.fit_transform(data['processed_title'])\n",
    "tfidf_body = tfidf_vectorizer.fit_transform(data['processed_body'])\n",
    "\n",
    "# keeping these as sparse matrices which we can also concatenate directly if needed for model input\n",
    "combined_features = csr_matrix(tfidf_title) + csr_matrix(tfidf_body) # in sparse format, to save memory"
   ]
  },
  {
   "cell_type": "markdown",
   "metadata": {},
   "source": [
    "### Token analysis"
   ]
  },
  {
   "cell_type": "code",
   "execution_count": 18,
   "metadata": {},
   "outputs": [
    {
     "data": {
      "text/html": [
       "<div>\n",
       "<style scoped>\n",
       "    .dataframe tbody tr th:only-of-type {\n",
       "        vertical-align: middle;\n",
       "    }\n",
       "\n",
       "    .dataframe tbody tr th {\n",
       "        vertical-align: top;\n",
       "    }\n",
       "\n",
       "    .dataframe thead th {\n",
       "        text-align: right;\n",
       "    }\n",
       "</style>\n",
       "<table border=\"1\" class=\"dataframe\">\n",
       "  <thead>\n",
       "    <tr style=\"text-align: right;\">\n",
       "      <th></th>\n",
       "      <th>word</th>\n",
       "      <th>tfidf_score</th>\n",
       "    </tr>\n",
       "  </thead>\n",
       "  <tbody>\n",
       "    <tr>\n",
       "      <th>4561</th>\n",
       "      <td>im</td>\n",
       "      <td>2709.434082</td>\n",
       "    </tr>\n",
       "    <tr>\n",
       "      <th>5271</th>\n",
       "      <td>like</td>\n",
       "      <td>2588.668313</td>\n",
       "    </tr>\n",
       "    <tr>\n",
       "      <th>2834</th>\n",
       "      <td>dont</td>\n",
       "      <td>1734.116298</td>\n",
       "    </tr>\n",
       "    <tr>\n",
       "      <th>3500</th>\n",
       "      <td>feel</td>\n",
       "      <td>1637.737548</td>\n",
       "    </tr>\n",
       "    <tr>\n",
       "      <th>9639</th>\n",
       "      <td>want</td>\n",
       "      <td>1637.021082</td>\n",
       "    </tr>\n",
       "    <tr>\n",
       "      <th>5084</th>\n",
       "      <td>know</td>\n",
       "      <td>1623.855277</td>\n",
       "    </tr>\n",
       "    <tr>\n",
       "      <th>4497</th>\n",
       "      <td>hurting</td>\n",
       "      <td>1577.283690</td>\n",
       "    </tr>\n",
       "    <tr>\n",
       "      <th>3927</th>\n",
       "      <td>get</td>\n",
       "      <td>1548.242333</td>\n",
       "    </tr>\n",
       "    <tr>\n",
       "      <th>4132</th>\n",
       "      <td>guy</td>\n",
       "      <td>1392.279880</td>\n",
       "    </tr>\n",
       "    <tr>\n",
       "      <th>3778</th>\n",
       "      <td>friend</td>\n",
       "      <td>1342.874309</td>\n",
       "    </tr>\n",
       "    <tr>\n",
       "      <th>6460</th>\n",
       "      <td>people</td>\n",
       "      <td>1301.340814</td>\n",
       "    </tr>\n",
       "    <tr>\n",
       "      <th>6182</th>\n",
       "      <td>one</td>\n",
       "      <td>1284.811268</td>\n",
       "    </tr>\n",
       "    <tr>\n",
       "      <th>7154</th>\n",
       "      <td>really</td>\n",
       "      <td>1266.899241</td>\n",
       "    </tr>\n",
       "    <tr>\n",
       "      <th>9003</th>\n",
       "      <td>time</td>\n",
       "      <td>1263.267372</td>\n",
       "    </tr>\n",
       "    <tr>\n",
       "      <th>5253</th>\n",
       "      <td>life</td>\n",
       "      <td>1187.190277</td>\n",
       "    </tr>\n",
       "    <tr>\n",
       "      <th>9937</th>\n",
       "      <td>year</td>\n",
       "      <td>1176.422004</td>\n",
       "    </tr>\n",
       "    <tr>\n",
       "      <th>2428</th>\n",
       "      <td>day</td>\n",
       "      <td>1171.721130</td>\n",
       "    </tr>\n",
       "    <tr>\n",
       "      <th>5172</th>\n",
       "      <td>leading</td>\n",
       "      <td>1138.603024</td>\n",
       "    </tr>\n",
       "    <tr>\n",
       "      <th>4034</th>\n",
       "      <td>grammatical</td>\n",
       "      <td>1065.704307</td>\n",
       "    </tr>\n",
       "    <tr>\n",
       "      <th>3976</th>\n",
       "      <td>go</td>\n",
       "      <td>1063.198863</td>\n",
       "    </tr>\n",
       "    <tr>\n",
       "      <th>4009</th>\n",
       "      <td>got</td>\n",
       "      <td>1053.271009</td>\n",
       "    </tr>\n",
       "    <tr>\n",
       "      <th>3241</th>\n",
       "      <td>even</td>\n",
       "      <td>1053.117688</td>\n",
       "    </tr>\n",
       "    <tr>\n",
       "      <th>8928</th>\n",
       "      <td>think</td>\n",
       "      <td>1030.090356</td>\n",
       "    </tr>\n",
       "    <tr>\n",
       "      <th>8926</th>\n",
       "      <td>thing</td>\n",
       "      <td>1004.671252</td>\n",
       "    </tr>\n",
       "    <tr>\n",
       "      <th>5458</th>\n",
       "      <td>make</td>\n",
       "      <td>983.464927</td>\n",
       "    </tr>\n",
       "    <tr>\n",
       "      <th>9884</th>\n",
       "      <td>would</td>\n",
       "      <td>978.219607</td>\n",
       "    </tr>\n",
       "    <tr>\n",
       "      <th>9590</th>\n",
       "      <td>volume</td>\n",
       "      <td>974.960921</td>\n",
       "    </tr>\n",
       "    <tr>\n",
       "      <th>4894</th>\n",
       "      <td>ive</td>\n",
       "      <td>948.982900</td>\n",
       "    </tr>\n",
       "    <tr>\n",
       "      <th>4205</th>\n",
       "      <td>harmless</td>\n",
       "      <td>945.554947</td>\n",
       "    </tr>\n",
       "    <tr>\n",
       "      <th>3993</th>\n",
       "      <td>good</td>\n",
       "      <td>942.342009</td>\n",
       "    </tr>\n",
       "    <tr>\n",
       "      <th>7666</th>\n",
       "      <td>say</td>\n",
       "      <td>936.446290</td>\n",
       "    </tr>\n",
       "    <tr>\n",
       "      <th>4291</th>\n",
       "      <td>help</td>\n",
       "      <td>935.946475</td>\n",
       "    </tr>\n",
       "    <tr>\n",
       "      <th>3950</th>\n",
       "      <td>girl</td>\n",
       "      <td>923.638842</td>\n",
       "    </tr>\n",
       "    <tr>\n",
       "      <th>1553</th>\n",
       "      <td>cant</td>\n",
       "      <td>910.683411</td>\n",
       "    </tr>\n",
       "    <tr>\n",
       "      <th>7693</th>\n",
       "      <td>school</td>\n",
       "      <td>892.880518</td>\n",
       "    </tr>\n",
       "    <tr>\n",
       "      <th>7158</th>\n",
       "      <td>reason</td>\n",
       "      <td>866.897215</td>\n",
       "    </tr>\n",
       "    <tr>\n",
       "      <th>3987</th>\n",
       "      <td>going</td>\n",
       "      <td>864.231725</td>\n",
       "    </tr>\n",
       "    <tr>\n",
       "      <th>2526</th>\n",
       "      <td>demand</td>\n",
       "      <td>851.081266</td>\n",
       "    </tr>\n",
       "    <tr>\n",
       "      <th>5899</th>\n",
       "      <td>nauseous</td>\n",
       "      <td>844.113936</td>\n",
       "    </tr>\n",
       "    <tr>\n",
       "      <th>3848</th>\n",
       "      <td>ga</td>\n",
       "      <td>838.928153</td>\n",
       "    </tr>\n",
       "    <tr>\n",
       "      <th>3711</th>\n",
       "      <td>formatting</td>\n",
       "      <td>825.876835</td>\n",
       "    </tr>\n",
       "    <tr>\n",
       "      <th>3806</th>\n",
       "      <td>fucking</td>\n",
       "      <td>825.457057</td>\n",
       "    </tr>\n",
       "    <tr>\n",
       "      <th>3830</th>\n",
       "      <td>funky</td>\n",
       "      <td>818.207237</td>\n",
       "    </tr>\n",
       "    <tr>\n",
       "      <th>5872</th>\n",
       "      <td>na</td>\n",
       "      <td>798.279817</td>\n",
       "    </tr>\n",
       "    <tr>\n",
       "      <th>8221</th>\n",
       "      <td>someone</td>\n",
       "      <td>795.211247</td>\n",
       "    </tr>\n",
       "    <tr>\n",
       "      <th>5957</th>\n",
       "      <td>never</td>\n",
       "      <td>791.953083</td>\n",
       "    </tr>\n",
       "    <tr>\n",
       "      <th>3492</th>\n",
       "      <td>feb</td>\n",
       "      <td>791.506207</td>\n",
       "    </tr>\n",
       "    <tr>\n",
       "      <th>5835</th>\n",
       "      <td>much</td>\n",
       "      <td>780.897074</td>\n",
       "    </tr>\n",
       "    <tr>\n",
       "      <th>6451</th>\n",
       "      <td>peer</td>\n",
       "      <td>780.076877</td>\n",
       "    </tr>\n",
       "    <tr>\n",
       "      <th>5920</th>\n",
       "      <td>need</td>\n",
       "      <td>775.268002</td>\n",
       "    </tr>\n",
       "  </tbody>\n",
       "</table>\n",
       "</div>"
      ],
      "text/plain": [
       "             word  tfidf_score\n",
       "4561           im  2709.434082\n",
       "5271         like  2588.668313\n",
       "2834         dont  1734.116298\n",
       "3500         feel  1637.737548\n",
       "9639         want  1637.021082\n",
       "5084         know  1623.855277\n",
       "4497      hurting  1577.283690\n",
       "3927          get  1548.242333\n",
       "4132          guy  1392.279880\n",
       "3778       friend  1342.874309\n",
       "6460       people  1301.340814\n",
       "6182          one  1284.811268\n",
       "7154       really  1266.899241\n",
       "9003         time  1263.267372\n",
       "5253         life  1187.190277\n",
       "9937         year  1176.422004\n",
       "2428          day  1171.721130\n",
       "5172      leading  1138.603024\n",
       "4034  grammatical  1065.704307\n",
       "3976           go  1063.198863\n",
       "4009          got  1053.271009\n",
       "3241         even  1053.117688\n",
       "8928        think  1030.090356\n",
       "8926        thing  1004.671252\n",
       "5458         make   983.464927\n",
       "9884        would   978.219607\n",
       "9590       volume   974.960921\n",
       "4894          ive   948.982900\n",
       "4205     harmless   945.554947\n",
       "3993         good   942.342009\n",
       "7666          say   936.446290\n",
       "4291         help   935.946475\n",
       "3950         girl   923.638842\n",
       "1553         cant   910.683411\n",
       "7693       school   892.880518\n",
       "7158       reason   866.897215\n",
       "3987        going   864.231725\n",
       "2526       demand   851.081266\n",
       "5899     nauseous   844.113936\n",
       "3848           ga   838.928153\n",
       "3711   formatting   825.876835\n",
       "3806      fucking   825.457057\n",
       "3830        funky   818.207237\n",
       "5872           na   798.279817\n",
       "8221      someone   795.211247\n",
       "5957        never   791.953083\n",
       "3492          feb   791.506207\n",
       "5835         much   780.897074\n",
       "6451         peer   780.076877\n",
       "5920         need   775.268002"
      ]
     },
     "execution_count": 18,
     "metadata": {},
     "output_type": "execute_result"
    }
   ],
   "source": [
    "#Examining the top words by TF-IDF Scores\n",
    "\n",
    "# Display the top terms with the highest TF-IDF scores\n",
    "tfidf_sum = combined_features.sum(axis=0)\n",
    "feature_names = tfidf_vectorizer.get_feature_names_out()\n",
    "tfidf_df = pd.DataFrame({'word': feature_names, 'tfidf_score': tfidf_sum.A1})\n",
    "tfidf_df = tfidf_df.sort_values(by='tfidf_score', ascending=False)\n",
    "\n",
    "# Displaying the top 50 terms with the highest TF-IDF scores\n",
    "tfidf_df.head(50)"
   ]
  },
  {
   "cell_type": "code",
   "execution_count": 19,
   "metadata": {},
   "outputs": [
    {
     "name": "stdout",
     "output_type": "stream",
     "text": [
      "                precision    recall  f1-score   support\n",
      "\n",
      "Non-Depression       0.93      0.97      0.95     12040\n",
      "    Depression       0.87      0.73      0.79      3371\n",
      "\n",
      "      accuracy                           0.92     15411\n",
      "     macro avg       0.90      0.85      0.87     15411\n",
      "  weighted avg       0.91      0.92      0.91     15411\n",
      "\n"
     ]
    }
   ],
   "source": [
    "from sklearn.model_selection import train_test_split\n",
    "from sklearn.feature_extraction.text import TfidfVectorizer\n",
    "from sklearn.linear_model import LogisticRegression\n",
    "from sklearn.pipeline import Pipeline\n",
    "from sklearn.metrics import classification_report\n",
    "\n",
    "# Spliting the data into training and test sets\n",
    "X_train, X_test, y_train, y_test = train_test_split(data['body'], data['label'], test_size=0.2, random_state=42)\n",
    "\n",
    "# Creating a pipeline with TF-IDF Vectorizer and Logistic Regression\n",
    "pipeline = Pipeline([\n",
    "    ('tfidf', TfidfVectorizer(stop_words='english', max_df=0.95, min_df=5)),\n",
    "    ('clf', LogisticRegression(solver='liblinear', random_state=42))\n",
    "])\n",
    "\n",
    "# Training the model\n",
    "pipeline.fit(X_train, y_train)\n",
    "\n",
    "# Making predictions\n",
    "y_pred = pipeline.predict(X_test)\n",
    "\n",
    "# Evaluating the model\n",
    "report = classification_report(y_test, y_pred, target_names=['Non-Depression', 'Depression'])\n",
    "print(report)\n"
   ]
  },
  {
   "cell_type": "markdown",
   "metadata": {},
   "source": [
    "### Performing hyperparameter tunning\n",
    "- This will improve performance of our model"
   ]
  },
  {
   "cell_type": "code",
   "execution_count": 20,
   "metadata": {},
   "outputs": [
    {
     "name": "stdout",
     "output_type": "stream",
     "text": [
      "Fitting 3 folds for each of 54 candidates, totalling 162 fits\n"
     ]
    },
    {
     "data": {
      "text/plain": [
       "({'clf__C': 10,\n",
       "  'clf__penalty': 'l2',\n",
       "  'tfidf__max_df': 0.9,\n",
       "  'tfidf__min_df': 1,\n",
       "  'tfidf__ngram_range': (1, 2)},\n",
       " 0.9169115301282754)"
      ]
     },
     "execution_count": 20,
     "metadata": {},
     "output_type": "execute_result"
    }
   ],
   "source": [
    "from sklearn.model_selection import GridSearchCV\n",
    "\n",
    "# Define the parameter grid\n",
    "param_grid = {\n",
    "    'tfidf__max_df': [0.9, 0.95, 1.0],\n",
    "    'tfidf__min_df': [1, 5, 10],\n",
    "    'tfidf__ngram_range': [(1, 1), (1, 2)],  # Unigrams and bigrams\n",
    "    'clf__C': [0.1, 1, 10],  # Regularization strength\n",
    "    'clf__penalty': ['l2']  # 'liblinear' solver supports only 'l2'\n",
    "}\n",
    "\n",
    "# Create a GridSearchCV object\n",
    "grid_search = GridSearchCV(pipeline, param_grid, cv=3, scoring='f1_weighted', n_jobs=-1, verbose=2)\n",
    "\n",
    "# Perform the grid search\n",
    "grid_search.fit(X_train, y_train)\n",
    "\n",
    "# Get the best parameters and best score\n",
    "best_params = grid_search.best_params_\n",
    "best_score = grid_search.best_score_\n",
    "\n",
    "best_params, best_score\n"
   ]
  },
  {
   "cell_type": "markdown",
   "metadata": {},
   "source": [
    "### The model has an approximate 92.23% accuracy on the evaluation data in the best combination of settings from Logistic regression classifier and TF-IDF Vectorizer.\n",
    "- This indicates strong performance in classifying the text thus the hyperparameters seem to be well suited for the problem."
   ]
  },
  {
   "cell_type": "markdown",
   "metadata": {},
   "source": [
    "## BERT Model"
   ]
  },
  {
   "cell_type": "code",
   "execution_count": 21,
   "metadata": {},
   "outputs": [
    {
     "name": "stderr",
     "output_type": "stream",
     "text": [
      "c:\\Users\\admin\\anaconda3\\envs\\learn-env\\lib\\site-packages\\huggingface_hub\\file_download.py:139: UserWarning: `huggingface_hub` cache-system uses symlinks by default to efficiently store duplicated files but your machine does not support them in C:\\Users\\admin\\.cache\\huggingface\\hub\\models--bert-base-uncased. Caching files will still work but in a degraded version that might require more space on your disk. This warning can be disabled by setting the `HF_HUB_DISABLE_SYMLINKS_WARNING` environment variable. For more details, see https://huggingface.co/docs/huggingface_hub/how-to-cache#limitations.\n",
      "To support symlinks on Windows, you either need to activate Developer Mode or to run Python as an administrator. In order to activate developer mode, see this article: https://docs.microsoft.com/en-us/windows/apps/get-started/enable-your-device-for-development\n",
      "  warnings.warn(message)\n",
      "Some weights of BertForSequenceClassification were not initialized from the model checkpoint at bert-base-uncased and are newly initialized: ['classifier.bias', 'classifier.weight']\n",
      "You should probably TRAIN this model on a down-stream task to be able to use it for predictions and inference.\n"
     ]
    },
    {
     "ename": "ImportError",
     "evalue": "Using the `Trainer` with `PyTorch` requires `accelerate>=0.26.0`: Please run `pip install transformers[torch]` or `pip install 'accelerate>={ACCELERATE_MIN_VERSION}'`",
     "output_type": "error",
     "traceback": [
      "\u001b[1;31m---------------------------------------------------------------------------\u001b[0m",
      "\u001b[1;31mImportError\u001b[0m                               Traceback (most recent call last)",
      "\u001b[1;32m<ipython-input-21-e6c6b3bdf96e>\u001b[0m in \u001b[0;36m<module>\u001b[1;34m\u001b[0m\n\u001b[0;32m     42\u001b[0m \u001b[1;33m\u001b[0m\u001b[0m\n\u001b[0;32m     43\u001b[0m \u001b[1;31m# Define training arguments\u001b[0m\u001b[1;33m\u001b[0m\u001b[1;33m\u001b[0m\u001b[1;33m\u001b[0m\u001b[0m\n\u001b[1;32m---> 44\u001b[1;33m training_args = TrainingArguments(\n\u001b[0m\u001b[0;32m     45\u001b[0m     \u001b[0moutput_dir\u001b[0m\u001b[1;33m=\u001b[0m\u001b[1;34m'./results'\u001b[0m\u001b[1;33m,\u001b[0m\u001b[1;33m\u001b[0m\u001b[1;33m\u001b[0m\u001b[0m\n\u001b[0;32m     46\u001b[0m     \u001b[0meval_strategy\u001b[0m\u001b[1;33m=\u001b[0m\u001b[1;34m\"epoch\"\u001b[0m\u001b[1;33m,\u001b[0m\u001b[1;33m\u001b[0m\u001b[1;33m\u001b[0m\u001b[0m\n",
      "\u001b[1;32mc:\\Users\\admin\\anaconda3\\envs\\learn-env\\lib\\site-packages\\transformers\\training_args.py\u001b[0m in \u001b[0;36m__init__\u001b[1;34m(self, output_dir, overwrite_output_dir, do_train, do_eval, do_predict, eval_strategy, prediction_loss_only, per_device_train_batch_size, per_device_eval_batch_size, per_gpu_train_batch_size, per_gpu_eval_batch_size, gradient_accumulation_steps, eval_accumulation_steps, eval_delay, torch_empty_cache_steps, learning_rate, weight_decay, adam_beta1, adam_beta2, adam_epsilon, max_grad_norm, num_train_epochs, max_steps, lr_scheduler_type, lr_scheduler_kwargs, warmup_ratio, warmup_steps, log_level, log_level_replica, log_on_each_node, logging_dir, logging_strategy, logging_first_step, logging_steps, logging_nan_inf_filter, save_strategy, save_steps, save_total_limit, save_safetensors, save_on_each_node, save_only_model, restore_callback_states_from_checkpoint, no_cuda, use_cpu, use_mps_device, seed, data_seed, jit_mode_eval, use_ipex, bf16, fp16, fp16_opt_level, half_precision_backend, bf16_full_eval, fp16_full_eval, tf32, local_rank, ddp_backend, tpu_num_cores, tpu_metrics_debug, debug, dataloader_drop_last, eval_steps, dataloader_num_workers, dataloader_prefetch_factor, past_index, run_name, disable_tqdm, remove_unused_columns, label_names, load_best_model_at_end, metric_for_best_model, greater_is_better, ignore_data_skip, fsdp, fsdp_min_num_params, fsdp_config, fsdp_transformer_layer_cls_to_wrap, accelerator_config, deepspeed, label_smoothing_factor, optim, optim_args, adafactor, group_by_length, length_column_name, report_to, ddp_find_unused_parameters, ddp_bucket_cap_mb, ddp_broadcast_buffers, dataloader_pin_memory, dataloader_persistent_workers, skip_memory_metrics, use_legacy_prediction_loop, push_to_hub, resume_from_checkpoint, hub_model_id, hub_strategy, hub_token, hub_private_repo, hub_always_push, gradient_checkpointing, gradient_checkpointing_kwargs, include_inputs_for_metrics, include_for_metrics, eval_do_concat_batches, fp16_backend, evaluation_strategy, push_to_hub_model_id, push_to_hub_organization, push_to_hub_token, mp_parameters, auto_find_batch_size, full_determinism, torchdynamo, ray_scope, ddp_timeout, torch_compile, torch_compile_backend, torch_compile_mode, dispatch_batches, split_batches, include_tokens_per_second, include_num_input_tokens_seen, neftune_noise_alpha, optim_target_modules, batch_eval_metrics, eval_on_start, use_liger_kernel, eval_use_gather_object, average_tokens_across_devices)\u001b[0m\n",
      "\u001b[1;32mc:\\Users\\admin\\anaconda3\\envs\\learn-env\\lib\\site-packages\\transformers\\training_args.py\u001b[0m in \u001b[0;36m__post_init__\u001b[1;34m(self)\u001b[0m\n\u001b[0;32m   1771\u001b[0m         \u001b[1;31m# Initialize device before we proceed\u001b[0m\u001b[1;33m\u001b[0m\u001b[1;33m\u001b[0m\u001b[1;33m\u001b[0m\u001b[0m\n\u001b[0;32m   1772\u001b[0m         \u001b[1;32mif\u001b[0m \u001b[0mself\u001b[0m\u001b[1;33m.\u001b[0m\u001b[0mframework\u001b[0m \u001b[1;33m==\u001b[0m \u001b[1;34m\"pt\"\u001b[0m \u001b[1;32mand\u001b[0m \u001b[0mis_torch_available\u001b[0m\u001b[1;33m(\u001b[0m\u001b[1;33m)\u001b[0m\u001b[1;33m:\u001b[0m\u001b[1;33m\u001b[0m\u001b[1;33m\u001b[0m\u001b[0m\n\u001b[1;32m-> 1773\u001b[1;33m             \u001b[0mself\u001b[0m\u001b[1;33m.\u001b[0m\u001b[0mdevice\u001b[0m\u001b[1;33m\u001b[0m\u001b[1;33m\u001b[0m\u001b[0m\n\u001b[0m\u001b[0;32m   1774\u001b[0m \u001b[1;33m\u001b[0m\u001b[0m\n\u001b[0;32m   1775\u001b[0m         \u001b[1;31m# Disable average tokens when using single device\u001b[0m\u001b[1;33m\u001b[0m\u001b[1;33m\u001b[0m\u001b[1;33m\u001b[0m\u001b[0m\n",
      "\u001b[1;32mc:\\Users\\admin\\anaconda3\\envs\\learn-env\\lib\\site-packages\\transformers\\training_args.py\u001b[0m in \u001b[0;36mdevice\u001b[1;34m(self)\u001b[0m\n\u001b[0;32m   2297\u001b[0m         \"\"\"\n\u001b[0;32m   2298\u001b[0m         \u001b[0mrequires_backends\u001b[0m\u001b[1;33m(\u001b[0m\u001b[0mself\u001b[0m\u001b[1;33m,\u001b[0m \u001b[1;33m[\u001b[0m\u001b[1;34m\"torch\"\u001b[0m\u001b[1;33m]\u001b[0m\u001b[1;33m)\u001b[0m\u001b[1;33m\u001b[0m\u001b[1;33m\u001b[0m\u001b[0m\n\u001b[1;32m-> 2299\u001b[1;33m         \u001b[1;32mreturn\u001b[0m \u001b[0mself\u001b[0m\u001b[1;33m.\u001b[0m\u001b[0m_setup_devices\u001b[0m\u001b[1;33m\u001b[0m\u001b[1;33m\u001b[0m\u001b[0m\n\u001b[0m\u001b[0;32m   2300\u001b[0m \u001b[1;33m\u001b[0m\u001b[0m\n\u001b[0;32m   2301\u001b[0m     \u001b[1;33m@\u001b[0m\u001b[0mproperty\u001b[0m\u001b[1;33m\u001b[0m\u001b[1;33m\u001b[0m\u001b[0m\n",
      "\u001b[1;32mc:\\Users\\admin\\anaconda3\\envs\\learn-env\\lib\\site-packages\\transformers\\utils\\generic.py\u001b[0m in \u001b[0;36m__get__\u001b[1;34m(self, obj, objtype)\u001b[0m\n\u001b[0;32m     58\u001b[0m         \u001b[0mcached\u001b[0m \u001b[1;33m=\u001b[0m \u001b[0mgetattr\u001b[0m\u001b[1;33m(\u001b[0m\u001b[0mobj\u001b[0m\u001b[1;33m,\u001b[0m \u001b[0mattr\u001b[0m\u001b[1;33m,\u001b[0m \u001b[1;32mNone\u001b[0m\u001b[1;33m)\u001b[0m\u001b[1;33m\u001b[0m\u001b[1;33m\u001b[0m\u001b[0m\n\u001b[0;32m     59\u001b[0m         \u001b[1;32mif\u001b[0m \u001b[0mcached\u001b[0m \u001b[1;32mis\u001b[0m \u001b[1;32mNone\u001b[0m\u001b[1;33m:\u001b[0m\u001b[1;33m\u001b[0m\u001b[1;33m\u001b[0m\u001b[0m\n\u001b[1;32m---> 60\u001b[1;33m             \u001b[0mcached\u001b[0m \u001b[1;33m=\u001b[0m \u001b[0mself\u001b[0m\u001b[1;33m.\u001b[0m\u001b[0mfget\u001b[0m\u001b[1;33m(\u001b[0m\u001b[0mobj\u001b[0m\u001b[1;33m)\u001b[0m\u001b[1;33m\u001b[0m\u001b[1;33m\u001b[0m\u001b[0m\n\u001b[0m\u001b[0;32m     61\u001b[0m             \u001b[0msetattr\u001b[0m\u001b[1;33m(\u001b[0m\u001b[0mobj\u001b[0m\u001b[1;33m,\u001b[0m \u001b[0mattr\u001b[0m\u001b[1;33m,\u001b[0m \u001b[0mcached\u001b[0m\u001b[1;33m)\u001b[0m\u001b[1;33m\u001b[0m\u001b[1;33m\u001b[0m\u001b[0m\n\u001b[0;32m     62\u001b[0m         \u001b[1;32mreturn\u001b[0m \u001b[0mcached\u001b[0m\u001b[1;33m\u001b[0m\u001b[1;33m\u001b[0m\u001b[0m\n",
      "\u001b[1;32mc:\\Users\\admin\\anaconda3\\envs\\learn-env\\lib\\site-packages\\transformers\\training_args.py\u001b[0m in \u001b[0;36m_setup_devices\u001b[1;34m(self)\u001b[0m\n\u001b[0;32m   2170\u001b[0m         \u001b[1;32mif\u001b[0m \u001b[1;32mnot\u001b[0m \u001b[0mis_sagemaker_mp_enabled\u001b[0m\u001b[1;33m(\u001b[0m\u001b[1;33m)\u001b[0m\u001b[1;33m:\u001b[0m\u001b[1;33m\u001b[0m\u001b[1;33m\u001b[0m\u001b[0m\n\u001b[0;32m   2171\u001b[0m             \u001b[1;32mif\u001b[0m \u001b[1;32mnot\u001b[0m \u001b[0mis_accelerate_available\u001b[0m\u001b[1;33m(\u001b[0m\u001b[1;33m)\u001b[0m\u001b[1;33m:\u001b[0m\u001b[1;33m\u001b[0m\u001b[1;33m\u001b[0m\u001b[0m\n\u001b[1;32m-> 2172\u001b[1;33m                 raise ImportError(\n\u001b[0m\u001b[0;32m   2173\u001b[0m                     \u001b[1;34mf\"Using the `Trainer` with `PyTorch` requires `accelerate>={ACCELERATE_MIN_VERSION}`: \"\u001b[0m\u001b[1;33m\u001b[0m\u001b[1;33m\u001b[0m\u001b[0m\n\u001b[0;32m   2174\u001b[0m                     \u001b[1;34m\"Please run `pip install transformers[torch]` or `pip install 'accelerate>={ACCELERATE_MIN_VERSION}'`\"\u001b[0m\u001b[1;33m\u001b[0m\u001b[1;33m\u001b[0m\u001b[0m\n",
      "\u001b[1;31mImportError\u001b[0m: Using the `Trainer` with `PyTorch` requires `accelerate>=0.26.0`: Please run `pip install transformers[torch]` or `pip install 'accelerate>={ACCELERATE_MIN_VERSION}'`"
     ]
    }
   ],
   "source": [
    "import pandas as pd\n",
    "import torch\n",
    "from transformers import BertTokenizer, BertForSequenceClassification, Trainer, TrainingArguments\n",
    "from transformers import DataCollatorWithPadding\n",
    "from sklearn.metrics import accuracy_score, precision_recall_fscore_support\n",
    "\n",
    "# **Before creating the dataset objects, ensure labels are integers 0 and 1:**\n",
    "y_train = y_train.astype(int)  # Convert y_train to integers\n",
    "y_test = y_test.astype(int)  # Convert y_test to integers\n",
    "\n",
    "# Initializing BERT tokenizer\n",
    "tokenizer = BertTokenizer.from_pretrained('bert-base-uncased')\n",
    "\n",
    "# Tokenizing the dataset\n",
    "train_encod = tokenizer(list(X_train), truncation=True, padding=True, max_length=128)\n",
    "test_encod = tokenizer(list(X_test), truncation=True, padding=True, max_length=128)\n",
    "\n",
    "# Converting labels to torch tensors\n",
    "train_labels = torch.tensor(y_train.values, dtype=torch.long)\n",
    "test_labels = torch.tensor(y_test.values, dtype=torch.long)\n",
    "\n",
    "# Creating torch dataset classes\n",
    "class DepressionDataset(torch.utils.data.Dataset):\n",
    "    def __init__(self, encodings, labels):\n",
    "        self.encodings = encodings\n",
    "        self.labels = labels\n",
    "\n",
    "    def __getitem__(self, idx):\n",
    "        item = {key: torch.tensor(val[idx]) for key, val in self.encodings.items()}\n",
    "        item['labels'] = self.labels[idx]\n",
    "        return item\n",
    "\n",
    "    def __len__(self):\n",
    "        return len(self.labels)\n",
    "\n",
    "# Creating dataset objects\n",
    "train_dataset = DepressionDataset(train_encod, train_labels)\n",
    "test_dataset = DepressionDataset(test_encod, test_labels)\n",
    "\n",
    "# Loading pre-trained BERT model for binary classification\n",
    "model = BertForSequenceClassification.from_pretrained(\"bert-base-uncased\", num_labels=2)\n",
    "\n",
    "# Define training arguments\n",
    "training_args = TrainingArguments(\n",
    "    output_dir='./results',\n",
    "    eval_strategy=\"epoch\",\n",
    "    learning_rate=2e-5,\n",
    "    per_device_train_batch_size=16,\n",
    "    per_device_eval_batch_size=16,\n",
    "    num_train_epochs=3,\n",
    "    weight_decay=0.01,\n",
    "    # **Add the following line to enable device-side assertions for debugging:**\n",
    "    report_to='none' # This line disables reporting to wandb and other loggers\n",
    ")\n",
    "\n",
    "# Defining metrics\n",
    "def compute_metrics(pred):\n",
    "    labels = pred.label_ids\n",
    "    preds = pred.predictions.argmax(-1)\n",
    "    precision, recall, f1, _ = precision_recall_fscore_support(labels, preds, average='binary')\n",
    "    acc = accuracy_score(labels, preds)\n",
    "    return {\"accuracy\": acc, \"f1\": f1, \"precision\": precision, \"recall\": recall}\n",
    "\n",
    "# Initializing Trainer\n",
    "traine = Trainer(\n",
    "    model=model,\n",
    "    args=training_args,\n",
    "    train_dataset=train_dataset,\n",
    "    eval_dataset=test_dataset,\n",
    "    data_collator=DataCollatorWithPadding(tokenizer), # remove processing_class = tokenizer\n",
    "    compute_metrics=compute_metrics\n",
    ")\n",
    "\n",
    "# Training the model\n",
    "traine.train()\n",
    "\n",
    "# Evaluating the model\n",
    "eval_result = traine.evaluate()\n",
    "print(eval_result)"
   ]
  },
  {
   "cell_type": "markdown",
   "metadata": {},
   "source": []
  }
 ],
 "metadata": {
  "kernelspec": {
   "display_name": "Python 3",
   "language": "python",
   "name": "python3"
  },
  "language_info": {
   "codemirror_mode": {
    "name": "ipython",
    "version": 3
   },
   "file_extension": ".py",
   "mimetype": "text/x-python",
   "name": "python",
   "nbconvert_exporter": "python",
   "pygments_lexer": "ipython3",
   "version": "3.8.5"
  }
 },
 "nbformat": 4,
 "nbformat_minor": 2
}
